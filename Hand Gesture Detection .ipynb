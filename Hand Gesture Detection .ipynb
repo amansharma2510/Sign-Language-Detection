{
 "cells": [
  {
   "cell_type": "code",
   "execution_count": 1,
   "id": "8dd31d5d",
   "metadata": {},
   "outputs": [],
   "source": [
    "# !pip install opencv-python mediapipe sklearn matplotlib tensorflow==2.12.0``"
   ]
  },
  {
   "cell_type": "code",
   "execution_count": 14,
   "id": "5c08104c",
   "metadata": {},
   "outputs": [
    {
     "name": "stdout",
     "output_type": "stream",
     "text": [
      "Collecting imutils\n",
      "  Downloading imutils-0.5.4.tar.gz (17 kB)\n",
      "  Preparing metadata (setup.py): started\n",
      "  Preparing metadata (setup.py): finished with status 'done'\n",
      "Building wheels for collected packages: imutils\n",
      "  Building wheel for imutils (setup.py): started\n",
      "  Building wheel for imutils (setup.py): finished with status 'done'\n",
      "  Created wheel for imutils: filename=imutils-0.5.4-py3-none-any.whl size=25854 sha256=cc55b123bd53c4145288554e9bff869f60b16e338d4bc16b1c72b4322b98341c\n",
      "  Stored in directory: c:\\users\\lenovo\\appdata\\local\\pip\\cache\\wheels\\85\\cf\\3a\\e265e975a1e7c7e54eb3692d6aa4e2e7d6a3945d29da46f2d7\n",
      "Successfully built imutils\n",
      "Installing collected packages: imutils\n",
      "Successfully installed imutils-0.5.4\n"
     ]
    }
   ],
   "source": [
    "!pip install imutils"
   ]
  },
  {
   "cell_type": "code",
   "execution_count": 2,
   "id": "42704e5a",
   "metadata": {},
   "outputs": [],
   "source": [
    "import cv2 \n",
    "import mediapipe as mp\n",
    "from matplotlib import pyplot as plt\n",
    "import numpy as np\n",
    "import os\n",
    "import time\n",
    "import imutils\n",
    "import tensorflow as tf"
   ]
  },
  {
   "cell_type": "code",
   "execution_count": 5,
   "id": "c3977108",
   "metadata": {},
   "outputs": [],
   "source": [
    "mp_holistic = mp.solutions.holistic #Holistic Model\n",
    "mp_drawing = mp.solutions.drawing_utils #Drawing utilities - mesh etc"
   ]
  },
  {
   "cell_type": "code",
   "execution_count": 6,
   "id": "099518bf",
   "metadata": {},
   "outputs": [],
   "source": [
    "def mediapipe_detection(image, model):\n",
    "    image = cv2.cvtColor(image, cv2.COLOR_BGR2RGB)\n",
    "    image.flags.writeable = False\n",
    "    results = model.process(image)\n",
    "    image.flags.writeable = True\n",
    "    image = cv2.cvtColor(image, cv2.COLOR_RGB2BGR)\n",
    "    return image, results # Image is same input image, return is a model object"
   ]
  },
  {
   "cell_type": "code",
   "execution_count": 7,
   "id": "f51541b1",
   "metadata": {},
   "outputs": [],
   "source": [
    "def draw_landmarks(image, results):\n",
    "    mp_drawing.draw_landmarks(image, results.face_landmarks, mp_holistic.FACEMESH_CONTOURS)\n",
    "    mp_drawing.draw_landmarks(image, results.pose_landmarks, mp_holistic.POSE_CONNECTIONS)\n",
    "    mp_drawing.draw_landmarks(image, results.left_hand_landmarks, mp_holistic.HAND_CONNECTIONS)\n",
    "    mp_drawing.draw_landmarks(image, results.right_hand_landmarks, mp_holistic.HAND_CONNECTIONS) "
   ]
  },
  {
   "cell_type": "code",
   "execution_count": 9,
   "id": "4eb0e013",
   "metadata": {},
   "outputs": [],
   "source": [
    "def draw_styled_landmarks(image, results):\n",
    "    mp_drawing.draw_landmarks(image, results.face_landmarks, mp_holistic.FACEMESH_CONTOURS,\n",
    "                             mp_drawing.DrawingSpec(color=(255, 255, 255), thickness=1, circle_radius=2),\n",
    "                             mp_drawing.DrawingSpec(color=(255, 255, 255), thickness=1, circle_radius=2)\n",
    "                             )\n",
    "    mp_drawing.draw_landmarks(image, results.pose_landmarks, mp_holistic.POSE_CONNECTIONS,\n",
    "                             mp_drawing.DrawingSpec(color=(255, 255, 255), thickness=2, circle_radius=4),\n",
    "                             mp_drawing.DrawingSpec(color=(255, 255, 255), thickness=2, circle_radius=2)\n",
    "                             )\n",
    "    mp_drawing.draw_landmarks(image, results.left_hand_landmarks, mp_holistic.HAND_CONNECTIONS,\n",
    "                             mp_drawing.DrawingSpec(color=(121, 22, 76), thickness=2, circle_radius=4),\n",
    "                             mp_drawing.DrawingSpec(color=(121, 44, 250), thickness=2, circle_radius=2)\n",
    "                             )\n",
    "    mp_drawing.draw_landmarks(image, results.right_hand_landmarks, mp_holistic.HAND_CONNECTIONS,\n",
    "                             mp_drawing.DrawingSpec(color=(245, 117, 66), thickness=2, circle_radius=4),\n",
    "                             mp_drawing.DrawingSpec(color=(245, 66, 230), thickness=2, circle_radius=2)\n",
    "                             )"
   ]
  },
  {
   "cell_type": "code",
   "execution_count": 10,
   "id": "de23f32a",
   "metadata": {},
   "outputs": [],
   "source": [
    "cap = cv2.VideoCapture(0)\n",
    "#Set mediapipe model\n",
    "with mp_holistic.Holistic(min_detection_confidence=0.5, min_tracking_confidence=0.5) as holistic:\n",
    "    while cap.isOpened():\n",
    "    \n",
    "        #Read feed\n",
    "        ret, frame = cap.read() #ret is return value which true or false, frame is the last frame captured\n",
    "        \n",
    "        #Make Detection\n",
    "        image, results = mediapipe_detection(frame, holistic)\n",
    "        \n",
    "        \n",
    "        #Draw landmarks\n",
    "        draw_styled_landmarks(image, results)\n",
    "        \n",
    "        # show to screen\n",
    "        resize = imutils.resize(image, width=720)\n",
    "        cv2.imshow('OpenCV Feed', resize)\n",
    "\n",
    "        # Break Gracefully\n",
    "        if cv2.waitKey(10) & 0xFF == ord('q'):\n",
    "            break\n",
    "    cap.release()\n",
    "    cv2.destroyAllWindows()"
   ]
  },
  {
   "cell_type": "code",
   "execution_count": null,
   "id": "22c97ed7",
   "metadata": {},
   "outputs": [],
   "source": []
  },
  {
   "cell_type": "code",
   "execution_count": 8,
   "id": "cfc16a62",
   "metadata": {},
   "outputs": [],
   "source": [
    "# pose = np.array([[res.x, res.y, res.z, res.visibility] for res in results.pose_landmarks.landmark]).flatten() if results.pose_landmarks else np.zeros(33*4)"
   ]
  },
  {
   "cell_type": "code",
   "execution_count": 9,
   "id": "233c8805",
   "metadata": {},
   "outputs": [],
   "source": [
    "# lh = np.array([[res.x, res.y, res.z] for res in results.left_hand_landmarks.landmark]).flatten() if results.left_hand_landmarks else np.zeros(21*3)"
   ]
  },
  {
   "cell_type": "code",
   "execution_count": null,
   "id": "f2045cc6",
   "metadata": {},
   "outputs": [],
   "source": []
  },
  {
   "cell_type": "code",
   "execution_count": 10,
   "id": "4f1abb9a",
   "metadata": {},
   "outputs": [],
   "source": [
    "# rh = np.array([[res.x, res.y, res.z] for res in results.right_hand_landmarks.landmark]).flatten() if results.right_hand_landmarks else np.zeros(21*3)"
   ]
  },
  {
   "cell_type": "code",
   "execution_count": 11,
   "id": "46e8056d",
   "metadata": {},
   "outputs": [],
   "source": [
    "# face = np.array([[res.x, res.y, res.z] for res in results.face_landmarks.landmark]).flatten() if results.face_landmarks else np.zeros(468*3)"
   ]
  },
  {
   "cell_type": "code",
   "execution_count": 11,
   "id": "4cd5aae1",
   "metadata": {},
   "outputs": [],
   "source": [
    "def extract_keypoints(results):\n",
    "    face = np.array([[res.x, res.y, res.z] for res in results.face_landmarks.landmark]).flatten() if results.face_landmarks else np.zeros(468*3)\n",
    "    pose = np.array([[res.x, res.y, res.z, res.visibility] for res in results.pose_landmarks.landmark]).flatten() if results.pose_landmarks else np.zeros(33*4)\n",
    "    lh = np.array([[res.x, res.y, res.z] for res in results.left_hand_landmarks.landmark]).flatten() if results.left_hand_landmarks else np.zeros(21*3)\n",
    "    rh = np.array([[res.x, res.y, res.z] for res in results.right_hand_landmarks.landmark]).flatten() if results.right_hand_landmarks else np.zeros(21*3)\n",
    "    return np.concatenate([pose,face,lh,rh])"
   ]
  },
  {
   "cell_type": "code",
   "execution_count": 13,
   "id": "29b04519",
   "metadata": {},
   "outputs": [],
   "source": [
    "# extract_keypoints(results).shape"
   ]
  },
  {
   "cell_type": "code",
   "execution_count": 14,
   "id": "2b849a11",
   "metadata": {},
   "outputs": [],
   "source": [
    "DATA_PATH = os.path.join('MP_DATA')\n",
    "actions = np.array(['hello', 'thanks', 'iloveyou'])\n",
    "#This is number of videos\n",
    "no_sequences = 30\n",
    "#This is number of frames in a video\n",
    "sequence_length = 30"
   ]
  },
  {
   "cell_type": "code",
   "execution_count": 20,
   "id": "c30b89fb",
   "metadata": {},
   "outputs": [],
   "source": [
    "for action in actions:\n",
    "    for sequence in range(no_sequences):\n",
    "        try:\n",
    "            os.makedirs(os.path.join(DATA_PATH, action, str(sequence)))\n",
    "        except:\n",
    "            pass"
   ]
  },
  {
   "cell_type": "code",
   "execution_count": 21,
   "id": "bf067b98",
   "metadata": {},
   "outputs": [],
   "source": [
    "flag = True"
   ]
  },
  {
   "cell_type": "code",
   "execution_count": 30,
   "id": "26945c53",
   "metadata": {},
   "outputs": [],
   "source": [
    "cap = cv2.VideoCapture(0)\n",
    "#Set mediapipe model\n",
    "with mp_holistic.Holistic(min_detection_confidence=0.5, min_tracking_confidence=0.5) as holistic:\n",
    "    for action in actions:\n",
    "        if not flag:\n",
    "            break\n",
    "        for sequence in range(no_sequence):\n",
    "            if not flag:\n",
    "                break\n",
    "            for frame_num in range(sequence_length):\n",
    "\n",
    "                #Read feed\n",
    "                ret, frame = cap.read() #ret is return value which true or false, frame is the last frame captured\n",
    "\n",
    "                #Make Detection\n",
    "                image, results = mediapipe_detection(frame, holistic)\n",
    "\n",
    "                #Draw landmarks\n",
    "                draw_styled_landmarks(image, results)\n",
    "                \n",
    "                #Apply wait logic\n",
    "                if frame_num == 0:\n",
    "                    cv2.putText(image, 'STARTING COLLECTION', (120, 200),\n",
    "                               cv2.FONT_HERSHEY_SIMPLEX, 1, (0,255,0), 1, cv2.LINE_AA)\n",
    "                    cv2.putText(image, f'Collectinig frames for {action} Video Number {sequence}', (30, 10),\n",
    "                               cv2.FONT_HERSHEY_SIMPLEX, 0.5, (0,0,255), 1, cv2.LINE_AA)\n",
    "                    cv2.waitKey(1500)\n",
    "                else:\n",
    "                    cv2.putText(image, f'Collectinig frames for {action} Video number {sequence}', (15, 12),\n",
    "                               cv2.FONT_HERSHEY_SIMPLEX, 0.5, (0,0,255), 1, cv2.LINE_AA)\n",
    "                keypoints = extract_keypoints(results)\n",
    "                npy_path = os.path.join(DATA_PATH, action, str(sequence), str(frame_num))\n",
    "                np.save(npy_path, keypoints) #Path and array name is same\n",
    "                \n",
    "                # show to screen\n",
    "                resize = imutils.resize(image, width=720)\n",
    "                cv2.imshow('OpenCV Feed', resize)\n",
    "\n",
    "                # Break Gracefully\n",
    "                if cv2.waitKey(10) & 0xFF == ord('q'):\n",
    "                    print('q is pressed')\n",
    "                    print('setting flag == False')\n",
    "                    flag = False\n",
    "                    break\n",
    "#             if cv2.waitKey(10) & 0xFF == ord('w'):\n",
    "#                 print('w is pressed')\n",
    "#                 break\n",
    "#         if cv2.waitKey(10) & 0xFF == ord('q'):\n",
    "#             print('q is pressed')\n",
    "#             break\n",
    "    cap.release()\n",
    "    cv2.destroyAllWindows()\n",
    "    flag = True"
   ]
  },
  {
   "cell_type": "code",
   "execution_count": 25,
   "id": "7cac9b23",
   "metadata": {},
   "outputs": [],
   "source": [
    "from sklearn.model_selection import train_test_split\n",
    "from tensorflow.keras.utils import to_categorical"
   ]
  },
  {
   "cell_type": "code",
   "execution_count": 26,
   "id": "5d3c9d88",
   "metadata": {},
   "outputs": [],
   "source": [
    "label_map = {label:num for num,label in enumerate(actions)}"
   ]
  },
  {
   "cell_type": "code",
   "execution_count": 66,
   "id": "3d5b08d4",
   "metadata": {},
   "outputs": [
    {
     "data": {
      "text/plain": [
       "{'hello': 0, 'thanks': 1, 'iloveyou': 2}"
      ]
     },
     "execution_count": 66,
     "metadata": {},
     "output_type": "execute_result"
    }
   ],
   "source": [
    "label_map"
   ]
  },
  {
   "cell_type": "code",
   "execution_count": 27,
   "id": "fd119350",
   "metadata": {},
   "outputs": [],
   "source": [
    "sequences, labels = [], []\n",
    "for action in actions:\n",
    "    for sequence in range(no_sequences):\n",
    "        window = []\n",
    "        for frame_num in range(sequence_length):\n",
    "            res = np.load(os.path.join(DATA_PATH, action, str(sequence), \"{}.npy\".format(frame_num)))\n",
    "            window.append(res)\n",
    "        sequences.append(window)\n",
    "        labels.append(label_map[action])"
   ]
  },
  {
   "cell_type": "code",
   "execution_count": 28,
   "id": "037e2a69",
   "metadata": {},
   "outputs": [
    {
     "data": {
      "text/plain": [
       "array(['hello', 'thanks', 'iloveyou'], dtype='<U8')"
      ]
     },
     "execution_count": 28,
     "metadata": {},
     "output_type": "execute_result"
    }
   ],
   "source": [
    "actions"
   ]
  },
  {
   "cell_type": "code",
   "execution_count": 29,
   "id": "254480d7",
   "metadata": {},
   "outputs": [
    {
     "data": {
      "text/plain": [
       "(90, 30, 1662)"
      ]
     },
     "execution_count": 29,
     "metadata": {},
     "output_type": "execute_result"
    }
   ],
   "source": [
    "np.array(sequences).shape"
   ]
  },
  {
   "cell_type": "code",
   "execution_count": 70,
   "id": "223f7ca4",
   "metadata": {},
   "outputs": [
    {
     "data": {
      "text/plain": [
       "array(['hello', 'thanks', 'iloveyou'], dtype='<U8')"
      ]
     },
     "execution_count": 70,
     "metadata": {},
     "output_type": "execute_result"
    }
   ],
   "source": [
    "actions"
   ]
  },
  {
   "cell_type": "code",
   "execution_count": 71,
   "id": "6a1b5219",
   "metadata": {},
   "outputs": [
    {
     "data": {
      "text/plain": [
       "(90,)"
      ]
     },
     "execution_count": 71,
     "metadata": {},
     "output_type": "execute_result"
    }
   ],
   "source": [
    "np.array(labels).shape"
   ]
  },
  {
   "cell_type": "code",
   "execution_count": 31,
   "id": "c5985357",
   "metadata": {},
   "outputs": [],
   "source": [
    "X = np.array(sequences)"
   ]
  },
  {
   "cell_type": "code",
   "execution_count": 32,
   "id": "a75ff42d",
   "metadata": {},
   "outputs": [
    {
     "data": {
      "text/plain": [
       "(90, 30, 1662)"
      ]
     },
     "execution_count": 32,
     "metadata": {},
     "output_type": "execute_result"
    }
   ],
   "source": [
    "X.shape"
   ]
  },
  {
   "cell_type": "code",
   "execution_count": 34,
   "id": "d910b787",
   "metadata": {},
   "outputs": [],
   "source": [
    "y = to_categorical(labels).astype(int) # changing y to one-hot encoding"
   ]
  },
  {
   "cell_type": "code",
   "execution_count": null,
   "id": "37880263",
   "metadata": {},
   "outputs": [],
   "source": []
  },
  {
   "cell_type": "code",
   "execution_count": 35,
   "id": "2e4a3f22",
   "metadata": {},
   "outputs": [],
   "source": [
    "X_train, X_test, y_train, y_test = train_test_split(X,y, test_size=0.05)"
   ]
  },
  {
   "cell_type": "code",
   "execution_count": 36,
   "id": "c00f200c",
   "metadata": {},
   "outputs": [
    {
     "data": {
      "text/plain": [
       "(85, 30, 1662)"
      ]
     },
     "execution_count": 36,
     "metadata": {},
     "output_type": "execute_result"
    }
   ],
   "source": [
    "X_train.shape"
   ]
  },
  {
   "cell_type": "code",
   "execution_count": 37,
   "id": "b33a585e",
   "metadata": {},
   "outputs": [],
   "source": [
    "from tensorflow.keras.models import Sequential\n",
    "from tensorflow.keras.layers import Dense, LSTM\n",
    "from tensorflow.keras.callbacks import TensorBoard"
   ]
  },
  {
   "cell_type": "code",
   "execution_count": 38,
   "id": "586417b5",
   "metadata": {},
   "outputs": [],
   "source": [
    "log_dir = os.path.join('Logs')\n",
    "tb_callback = TensorBoard(log_dir = log_dir)"
   ]
  },
  {
   "cell_type": "code",
   "execution_count": 39,
   "id": "00157526",
   "metadata": {},
   "outputs": [
    {
     "data": {
      "text/plain": [
       "(85, 3)"
      ]
     },
     "execution_count": 39,
     "metadata": {},
     "output_type": "execute_result"
    }
   ],
   "source": [
    "y_train.shape"
   ]
  },
  {
   "cell_type": "code",
   "execution_count": 40,
   "id": "5b21ab6f",
   "metadata": {},
   "outputs": [
    {
     "data": {
      "text/plain": [
       "(85, 30, 1662)"
      ]
     },
     "execution_count": 40,
     "metadata": {},
     "output_type": "execute_result"
    }
   ],
   "source": [
    "X_train.shape"
   ]
  },
  {
   "cell_type": "code",
   "execution_count": 41,
   "id": "b1153e69",
   "metadata": {},
   "outputs": [],
   "source": [
    "model = Sequential()\n",
    "model.add(LSTM(64, return_sequences=True, activation='relu', input_shape=(30,1662)))\n",
    "model.add(LSTM(128, return_sequences=True, activation='relu'))\n",
    "model.add(LSTM(64, return_sequences=False, activation='relu'))\n",
    "model.add(Dense(64, activation='relu'))\n",
    "model.add(Dense(32, activation='relu'))\n",
    "model.add(Dense(actions.shape[0], activation='softmax'))"
   ]
  },
  {
   "cell_type": "code",
   "execution_count": 54,
   "id": "4c0a64ba",
   "metadata": {},
   "outputs": [],
   "source": [
    "model.compile(optimizer=tf.keras.optimizers.Adam(learning_rate=1e-3), loss='categorical_crossentropy', metrics=['categorical_accuracy'])"
   ]
  },
  {
   "cell_type": "code",
   "execution_count": 55,
   "id": "8ffac54a",
   "metadata": {},
   "outputs": [],
   "source": [
    "model.load_weights('action.h5')"
   ]
  },
  {
   "cell_type": "code",
   "execution_count": 111,
   "id": "df366a1a",
   "metadata": {},
   "outputs": [],
   "source": [
    "# model.compile(optimizer=tf.keras.optimizers.Adam(learning_rate=1e-3), \n",
    "#              loss=tf.keras.losses.SparseCategoricalCrossentropy(from_logits=True))"
   ]
  },
  {
   "cell_type": "code",
   "execution_count": 180,
   "id": "37e86c42",
   "metadata": {},
   "outputs": [
    {
     "name": "stdout",
     "output_type": "stream",
     "text": [
      "Epoch 1/200\n",
      "3/3 [==============================] - 5s 97ms/step - loss: 2.8334 - categorical_accuracy: 0.3412\n",
      "Epoch 2/200\n",
      "3/3 [==============================] - 0s 91ms/step - loss: 9.8997 - categorical_accuracy: 0.3529\n",
      "Epoch 3/200\n",
      "3/3 [==============================] - 0s 92ms/step - loss: 1.0535 - categorical_accuracy: 0.3412\n",
      "Epoch 4/200\n",
      "3/3 [==============================] - 0s 96ms/step - loss: 1.0919 - categorical_accuracy: 0.4000\n",
      "Epoch 5/200\n",
      "3/3 [==============================] - 0s 88ms/step - loss: 1.4677 - categorical_accuracy: 0.3647\n",
      "Epoch 6/200\n",
      "3/3 [==============================] - 0s 91ms/step - loss: 1.3466 - categorical_accuracy: 0.4941\n",
      "Epoch 7/200\n",
      "3/3 [==============================] - 0s 90ms/step - loss: 1.0465 - categorical_accuracy: 0.5294\n",
      "Epoch 8/200\n",
      "3/3 [==============================] - 0s 91ms/step - loss: 0.9818 - categorical_accuracy: 0.4118\n",
      "Epoch 9/200\n",
      "3/3 [==============================] - 0s 94ms/step - loss: 0.8916 - categorical_accuracy: 0.5529\n",
      "Epoch 10/200\n",
      "3/3 [==============================] - 0s 91ms/step - loss: 0.9442 - categorical_accuracy: 0.4941\n",
      "Epoch 11/200\n",
      "3/3 [==============================] - 0s 93ms/step - loss: 0.7421 - categorical_accuracy: 0.6588\n",
      "Epoch 12/200\n",
      "3/3 [==============================] - 0s 92ms/step - loss: 0.7126 - categorical_accuracy: 0.7882\n",
      "Epoch 13/200\n",
      "3/3 [==============================] - 0s 90ms/step - loss: 1.0705 - categorical_accuracy: 0.5412\n",
      "Epoch 14/200\n",
      "3/3 [==============================] - 0s 111ms/step - loss: 0.8487 - categorical_accuracy: 0.6588\n",
      "Epoch 15/200\n",
      "3/3 [==============================] - 0s 92ms/step - loss: 0.7718 - categorical_accuracy: 0.5176\n",
      "Epoch 16/200\n",
      "3/3 [==============================] - 0s 101ms/step - loss: 0.7001 - categorical_accuracy: 0.7765\n",
      "Epoch 17/200\n",
      "3/3 [==============================] - 0s 105ms/step - loss: 0.6856 - categorical_accuracy: 0.6471\n",
      "Epoch 18/200\n",
      "3/3 [==============================] - 0s 96ms/step - loss: 0.4968 - categorical_accuracy: 0.8471\n",
      "Epoch 19/200\n",
      "3/3 [==============================] - 0s 98ms/step - loss: 0.5473 - categorical_accuracy: 0.7412\n",
      "Epoch 20/200\n",
      "3/3 [==============================] - 0s 93ms/step - loss: 0.4651 - categorical_accuracy: 0.8118\n",
      "Epoch 21/200\n",
      "3/3 [==============================] - 0s 95ms/step - loss: 0.5597 - categorical_accuracy: 0.7059\n",
      "Epoch 22/200\n",
      "3/3 [==============================] - 0s 101ms/step - loss: 0.6106 - categorical_accuracy: 0.6824\n",
      "Epoch 23/200\n",
      "3/3 [==============================] - 0s 90ms/step - loss: 0.4918 - categorical_accuracy: 0.7647\n",
      "Epoch 24/200\n",
      "3/3 [==============================] - 0s 96ms/step - loss: 0.4995 - categorical_accuracy: 0.7294\n",
      "Epoch 25/200\n",
      "3/3 [==============================] - 0s 100ms/step - loss: 0.4282 - categorical_accuracy: 0.8000\n",
      "Epoch 26/200\n",
      "3/3 [==============================] - 0s 100ms/step - loss: 0.5169 - categorical_accuracy: 0.6941\n",
      "Epoch 27/200\n",
      "3/3 [==============================] - 0s 92ms/step - loss: 0.5194 - categorical_accuracy: 0.7176\n",
      "Epoch 28/200\n",
      "3/3 [==============================] - 0s 97ms/step - loss: 0.4109 - categorical_accuracy: 0.8471\n",
      "Epoch 29/200\n",
      "3/3 [==============================] - 0s 90ms/step - loss: 0.4548 - categorical_accuracy: 0.7882\n",
      "Epoch 30/200\n",
      "3/3 [==============================] - 0s 89ms/step - loss: 0.3616 - categorical_accuracy: 0.8000\n",
      "Epoch 31/200\n",
      "3/3 [==============================] - 0s 95ms/step - loss: 0.3546 - categorical_accuracy: 0.7882\n",
      "Epoch 32/200\n",
      "3/3 [==============================] - 0s 101ms/step - loss: 0.3106 - categorical_accuracy: 0.8824\n",
      "Epoch 33/200\n",
      "3/3 [==============================] - 0s 91ms/step - loss: 0.3060 - categorical_accuracy: 0.8824\n",
      "Epoch 34/200\n",
      "3/3 [==============================] - 0s 89ms/step - loss: 0.4021 - categorical_accuracy: 0.8118\n",
      "Epoch 35/200\n",
      "3/3 [==============================] - 0s 89ms/step - loss: 1.0496 - categorical_accuracy: 0.6000\n",
      "Epoch 36/200\n",
      "3/3 [==============================] - 0s 88ms/step - loss: 1.9531 - categorical_accuracy: 0.4706\n",
      "Epoch 37/200\n",
      "3/3 [==============================] - 0s 92ms/step - loss: 0.6353 - categorical_accuracy: 0.6824\n",
      "Epoch 38/200\n",
      "3/3 [==============================] - 0s 91ms/step - loss: 0.6788 - categorical_accuracy: 0.6706\n",
      "Epoch 39/200\n",
      "3/3 [==============================] - 0s 107ms/step - loss: 0.7937 - categorical_accuracy: 0.5412\n",
      "Epoch 40/200\n",
      "3/3 [==============================] - 0s 95ms/step - loss: 0.5917 - categorical_accuracy: 0.8118\n",
      "Epoch 41/200\n",
      "3/3 [==============================] - 0s 95ms/step - loss: 0.5301 - categorical_accuracy: 0.7059\n",
      "Epoch 42/200\n",
      "3/3 [==============================] - 0s 91ms/step - loss: 0.4761 - categorical_accuracy: 0.7647\n",
      "Epoch 43/200\n",
      "3/3 [==============================] - 0s 93ms/step - loss: 0.4373 - categorical_accuracy: 0.8353\n",
      "Epoch 44/200\n",
      "3/3 [==============================] - 0s 98ms/step - loss: 0.3867 - categorical_accuracy: 0.8000\n",
      "Epoch 45/200\n",
      "3/3 [==============================] - 0s 98ms/step - loss: 0.3527 - categorical_accuracy: 0.8118\n",
      "Epoch 46/200\n",
      "3/3 [==============================] - 0s 99ms/step - loss: 0.3307 - categorical_accuracy: 0.8235\n",
      "Epoch 47/200\n",
      "3/3 [==============================] - 0s 116ms/step - loss: 0.3229 - categorical_accuracy: 0.8235\n",
      "Epoch 48/200\n",
      "3/3 [==============================] - 0s 104ms/step - loss: 0.3236 - categorical_accuracy: 0.8000\n",
      "Epoch 49/200\n",
      "3/3 [==============================] - 0s 88ms/step - loss: 0.3124 - categorical_accuracy: 0.8471\n",
      "Epoch 50/200\n",
      "3/3 [==============================] - 0s 93ms/step - loss: 0.2806 - categorical_accuracy: 0.8471\n",
      "Epoch 51/200\n",
      "3/3 [==============================] - 0s 111ms/step - loss: 0.2568 - categorical_accuracy: 0.8588\n",
      "Epoch 52/200\n",
      "3/3 [==============================] - 0s 103ms/step - loss: 0.2497 - categorical_accuracy: 0.8588\n",
      "Epoch 53/200\n",
      "3/3 [==============================] - 0s 109ms/step - loss: 3.3321 - categorical_accuracy: 0.8235\n",
      "Epoch 54/200\n",
      "3/3 [==============================] - 0s 94ms/step - loss: 1.3225 - categorical_accuracy: 0.4471\n",
      "Epoch 55/200\n",
      "3/3 [==============================] - 0s 97ms/step - loss: 1.1755 - categorical_accuracy: 0.4353\n",
      "Epoch 56/200\n",
      "3/3 [==============================] - 0s 93ms/step - loss: 5.0230 - categorical_accuracy: 0.4824\n",
      "Epoch 57/200\n",
      "3/3 [==============================] - 0s 111ms/step - loss: 1.4602 - categorical_accuracy: 0.3412\n",
      "Epoch 58/200\n",
      "3/3 [==============================] - 0s 100ms/step - loss: 1.1142 - categorical_accuracy: 0.4235\n",
      "Epoch 59/200\n",
      "3/3 [==============================] - 0s 96ms/step - loss: 1.2006 - categorical_accuracy: 0.4118\n",
      "Epoch 60/200\n",
      "3/3 [==============================] - 0s 102ms/step - loss: 1.2031 - categorical_accuracy: 0.5059\n",
      "Epoch 61/200\n",
      "3/3 [==============================] - 0s 100ms/step - loss: 1.1101 - categorical_accuracy: 0.5176\n",
      "Epoch 62/200\n",
      "3/3 [==============================] - 0s 106ms/step - loss: 1.1973 - categorical_accuracy: 0.5529\n",
      "Epoch 63/200\n",
      "3/3 [==============================] - 0s 110ms/step - loss: 1.0032 - categorical_accuracy: 0.5176\n",
      "Epoch 64/200\n",
      "3/3 [==============================] - 0s 94ms/step - loss: 1.2855 - categorical_accuracy: 0.5059\n",
      "Epoch 65/200\n",
      "3/3 [==============================] - 0s 91ms/step - loss: 1.6739 - categorical_accuracy: 0.5412\n",
      "Epoch 66/200\n",
      "3/3 [==============================] - 0s 95ms/step - loss: 0.8649 - categorical_accuracy: 0.6000\n",
      "Epoch 67/200\n",
      "3/3 [==============================] - 0s 96ms/step - loss: 0.9172 - categorical_accuracy: 0.4235\n",
      "Epoch 68/200\n",
      "3/3 [==============================] - 0s 90ms/step - loss: 0.9421 - categorical_accuracy: 0.5294\n",
      "Epoch 69/200\n",
      "3/3 [==============================] - 0s 92ms/step - loss: 0.9327 - categorical_accuracy: 0.4941\n",
      "Epoch 70/200\n",
      "3/3 [==============================] - 0s 94ms/step - loss: 0.8710 - categorical_accuracy: 0.5529\n",
      "Epoch 71/200\n",
      "3/3 [==============================] - 0s 100ms/step - loss: 0.7709 - categorical_accuracy: 0.4824\n",
      "Epoch 72/200\n",
      "3/3 [==============================] - 0s 95ms/step - loss: 0.6972 - categorical_accuracy: 0.5765\n",
      "Epoch 73/200\n",
      "3/3 [==============================] - 0s 95ms/step - loss: 0.6695 - categorical_accuracy: 0.5412\n",
      "Epoch 74/200\n",
      "3/3 [==============================] - 0s 99ms/step - loss: 0.6092 - categorical_accuracy: 0.5765\n",
      "Epoch 75/200\n",
      "3/3 [==============================] - 0s 97ms/step - loss: 0.6091 - categorical_accuracy: 0.5294\n",
      "Epoch 76/200\n",
      "3/3 [==============================] - 0s 98ms/step - loss: 0.5318 - categorical_accuracy: 0.6941\n",
      "Epoch 77/200\n",
      "3/3 [==============================] - 0s 95ms/step - loss: 7.2522 - categorical_accuracy: 0.5529\n",
      "Epoch 78/200\n",
      "3/3 [==============================] - 0s 98ms/step - loss: 0.7835 - categorical_accuracy: 0.5412\n",
      "Epoch 79/200\n",
      "3/3 [==============================] - 0s 94ms/step - loss: 0.6882 - categorical_accuracy: 0.5765\n",
      "Epoch 80/200\n",
      "3/3 [==============================] - 0s 94ms/step - loss: 0.7062 - categorical_accuracy: 0.5529\n",
      "Epoch 81/200\n",
      "3/3 [==============================] - 0s 91ms/step - loss: 0.7075 - categorical_accuracy: 0.6118\n",
      "Epoch 82/200\n",
      "3/3 [==============================] - 0s 93ms/step - loss: 0.6649 - categorical_accuracy: 0.6706\n",
      "Epoch 83/200\n",
      "3/3 [==============================] - 0s 96ms/step - loss: 0.5965 - categorical_accuracy: 0.6706\n",
      "Epoch 84/200\n",
      "3/3 [==============================] - 0s 95ms/step - loss: 0.5419 - categorical_accuracy: 0.6706\n",
      "Epoch 85/200\n",
      "3/3 [==============================] - 0s 96ms/step - loss: 0.5090 - categorical_accuracy: 0.6706\n",
      "Epoch 86/200\n",
      "3/3 [==============================] - 0s 95ms/step - loss: 0.4886 - categorical_accuracy: 0.6706\n",
      "Epoch 87/200\n",
      "3/3 [==============================] - 0s 95ms/step - loss: 0.4759 - categorical_accuracy: 0.7294\n",
      "Epoch 88/200\n",
      "3/3 [==============================] - 0s 95ms/step - loss: 0.4717 - categorical_accuracy: 0.7412\n",
      "Epoch 89/200\n",
      "3/3 [==============================] - 0s 92ms/step - loss: 0.4756 - categorical_accuracy: 0.6824\n",
      "Epoch 90/200\n",
      "3/3 [==============================] - 0s 96ms/step - loss: 0.4635 - categorical_accuracy: 0.7059\n",
      "Epoch 91/200\n",
      "3/3 [==============================] - 0s 95ms/step - loss: 0.4653 - categorical_accuracy: 0.7529\n",
      "Epoch 92/200\n",
      "3/3 [==============================] - 0s 100ms/step - loss: 0.4602 - categorical_accuracy: 0.7412\n",
      "Epoch 93/200\n",
      "3/3 [==============================] - 0s 96ms/step - loss: 0.4622 - categorical_accuracy: 0.7294\n",
      "Epoch 94/200\n",
      "3/3 [==============================] - 0s 96ms/step - loss: 1.5493 - categorical_accuracy: 0.5882\n",
      "Epoch 95/200\n",
      "3/3 [==============================] - 0s 93ms/step - loss: 1.8863 - categorical_accuracy: 0.3882\n",
      "Epoch 96/200\n",
      "3/3 [==============================] - 0s 96ms/step - loss: 1.8845 - categorical_accuracy: 0.3765\n",
      "Epoch 97/200\n",
      "3/3 [==============================] - 0s 103ms/step - loss: 1.0355 - categorical_accuracy: 0.4706\n",
      "Epoch 98/200\n",
      "3/3 [==============================] - 0s 105ms/step - loss: 0.8574 - categorical_accuracy: 0.5412\n",
      "Epoch 99/200\n",
      "3/3 [==============================] - 0s 98ms/step - loss: 0.9578 - categorical_accuracy: 0.3176\n",
      "Epoch 100/200\n",
      "3/3 [==============================] - 0s 95ms/step - loss: 0.8705 - categorical_accuracy: 0.5529\n",
      "Epoch 101/200\n",
      "3/3 [==============================] - 0s 92ms/step - loss: 0.8585 - categorical_accuracy: 0.6353\n",
      "Epoch 102/200\n",
      "3/3 [==============================] - 0s 104ms/step - loss: 0.7504 - categorical_accuracy: 0.6706\n",
      "Epoch 103/200\n",
      "3/3 [==============================] - 0s 100ms/step - loss: 0.6866 - categorical_accuracy: 0.6941\n",
      "Epoch 104/200\n",
      "3/3 [==============================] - 0s 93ms/step - loss: 0.5996 - categorical_accuracy: 0.7294\n",
      "Epoch 105/200\n",
      "3/3 [==============================] - 0s 94ms/step - loss: 0.5518 - categorical_accuracy: 0.6706\n",
      "Epoch 106/200\n",
      "3/3 [==============================] - 0s 93ms/step - loss: 0.4915 - categorical_accuracy: 0.7294\n",
      "Epoch 107/200\n",
      "3/3 [==============================] - 0s 96ms/step - loss: 0.5433 - categorical_accuracy: 0.6588\n",
      "Epoch 108/200\n",
      "3/3 [==============================] - 0s 141ms/step - loss: 0.5950 - categorical_accuracy: 0.6471\n",
      "Epoch 109/200\n",
      "3/3 [==============================] - 0s 106ms/step - loss: 0.7269 - categorical_accuracy: 0.6353\n",
      "Epoch 110/200\n",
      "3/3 [==============================] - 0s 93ms/step - loss: 0.9813 - categorical_accuracy: 0.5882\n",
      "Epoch 111/200\n",
      "3/3 [==============================] - 0s 97ms/step - loss: 0.9348 - categorical_accuracy: 0.4824\n",
      "Epoch 112/200\n",
      "3/3 [==============================] - 0s 95ms/step - loss: 0.8726 - categorical_accuracy: 0.4941\n",
      "Epoch 113/200\n",
      "3/3 [==============================] - 0s 92ms/step - loss: 0.8321 - categorical_accuracy: 0.5176\n",
      "Epoch 114/200\n",
      "3/3 [==============================] - 0s 94ms/step - loss: 0.8278 - categorical_accuracy: 0.5059\n",
      "Epoch 115/200\n",
      "3/3 [==============================] - 0s 98ms/step - loss: 0.7941 - categorical_accuracy: 0.7176\n",
      "Epoch 116/200\n",
      "3/3 [==============================] - 0s 117ms/step - loss: 0.7427 - categorical_accuracy: 0.6588\n",
      "Epoch 117/200\n",
      "3/3 [==============================] - 0s 95ms/step - loss: 0.6842 - categorical_accuracy: 0.6353\n",
      "Epoch 118/200\n",
      "3/3 [==============================] - 0s 91ms/step - loss: 0.6014 - categorical_accuracy: 0.6941\n",
      "Epoch 119/200\n",
      "3/3 [==============================] - 0s 98ms/step - loss: 0.5492 - categorical_accuracy: 0.7765\n",
      "Epoch 120/200\n",
      "3/3 [==============================] - 0s 95ms/step - loss: 0.5284 - categorical_accuracy: 0.7529\n",
      "Epoch 121/200\n",
      "3/3 [==============================] - 0s 94ms/step - loss: 0.5137 - categorical_accuracy: 0.6941\n",
      "Epoch 122/200\n",
      "3/3 [==============================] - 0s 93ms/step - loss: 0.5005 - categorical_accuracy: 0.6941\n",
      "Epoch 123/200\n",
      "3/3 [==============================] - 0s 95ms/step - loss: 0.4800 - categorical_accuracy: 0.7176\n",
      "Epoch 124/200\n",
      "3/3 [==============================] - 0s 95ms/step - loss: 0.4598 - categorical_accuracy: 0.8000\n",
      "Epoch 125/200\n",
      "3/3 [==============================] - 0s 96ms/step - loss: 0.4455 - categorical_accuracy: 0.7412\n",
      "Epoch 126/200\n",
      "3/3 [==============================] - 0s 95ms/step - loss: 0.4237 - categorical_accuracy: 0.7412\n",
      "Epoch 127/200\n",
      "3/3 [==============================] - 0s 94ms/step - loss: 0.4199 - categorical_accuracy: 0.7765\n",
      "Epoch 128/200\n",
      "3/3 [==============================] - 0s 94ms/step - loss: 0.4121 - categorical_accuracy: 0.7765\n",
      "Epoch 129/200\n",
      "3/3 [==============================] - 0s 93ms/step - loss: 0.3969 - categorical_accuracy: 0.8000\n",
      "Epoch 130/200\n",
      "3/3 [==============================] - 0s 92ms/step - loss: 0.3877 - categorical_accuracy: 0.8235\n",
      "Epoch 131/200\n",
      "3/3 [==============================] - 0s 96ms/step - loss: 0.3816 - categorical_accuracy: 0.7882\n",
      "Epoch 132/200\n",
      "3/3 [==============================] - 0s 94ms/step - loss: 0.3729 - categorical_accuracy: 0.8235\n",
      "Epoch 133/200\n",
      "3/3 [==============================] - 0s 94ms/step - loss: 0.3578 - categorical_accuracy: 0.8353\n",
      "Epoch 134/200\n",
      "3/3 [==============================] - 0s 95ms/step - loss: 0.4593 - categorical_accuracy: 0.7176\n",
      "Epoch 135/200\n",
      "3/3 [==============================] - 0s 95ms/step - loss: 0.4072 - categorical_accuracy: 0.7529\n",
      "Epoch 136/200\n",
      "3/3 [==============================] - 0s 108ms/step - loss: 0.3380 - categorical_accuracy: 0.8471\n",
      "Epoch 137/200\n",
      "3/3 [==============================] - 0s 94ms/step - loss: 0.3954 - categorical_accuracy: 0.8000\n",
      "Epoch 138/200\n",
      "3/3 [==============================] - 0s 95ms/step - loss: 0.3333 - categorical_accuracy: 0.8000\n",
      "Epoch 139/200\n",
      "3/3 [==============================] - 0s 94ms/step - loss: 0.3313 - categorical_accuracy: 0.9294\n",
      "Epoch 140/200\n",
      "3/3 [==============================] - 0s 96ms/step - loss: 0.3287 - categorical_accuracy: 0.8235\n",
      "Epoch 141/200\n",
      "3/3 [==============================] - 0s 95ms/step - loss: 0.3323 - categorical_accuracy: 0.8824\n",
      "Epoch 142/200\n",
      "3/3 [==============================] - 0s 98ms/step - loss: 0.2941 - categorical_accuracy: 0.8706\n",
      "Epoch 143/200\n",
      "3/3 [==============================] - 0s 94ms/step - loss: 0.2637 - categorical_accuracy: 0.8941\n",
      "Epoch 144/200\n",
      "3/3 [==============================] - 0s 95ms/step - loss: 0.2789 - categorical_accuracy: 0.8706\n",
      "Epoch 145/200\n",
      "3/3 [==============================] - 0s 96ms/step - loss: 0.2790 - categorical_accuracy: 0.8824\n",
      "Epoch 146/200\n",
      "3/3 [==============================] - 0s 95ms/step - loss: 0.2341 - categorical_accuracy: 0.9176\n",
      "Epoch 147/200\n"
     ]
    },
    {
     "name": "stdout",
     "output_type": "stream",
     "text": [
      "3/3 [==============================] - 0s 98ms/step - loss: 0.2670 - categorical_accuracy: 0.8706\n",
      "Epoch 148/200\n",
      "3/3 [==============================] - 0s 94ms/step - loss: 0.2248 - categorical_accuracy: 0.9059\n",
      "Epoch 149/200\n",
      "3/3 [==============================] - 0s 91ms/step - loss: 0.2223 - categorical_accuracy: 0.9529\n",
      "Epoch 150/200\n",
      "3/3 [==============================] - 0s 95ms/step - loss: 0.2292 - categorical_accuracy: 0.9059\n",
      "Epoch 151/200\n",
      "3/3 [==============================] - 0s 95ms/step - loss: 0.2498 - categorical_accuracy: 0.9294\n",
      "Epoch 152/200\n",
      "3/3 [==============================] - 0s 95ms/step - loss: 0.2834 - categorical_accuracy: 0.8941\n",
      "Epoch 153/200\n",
      "3/3 [==============================] - 0s 94ms/step - loss: 0.1942 - categorical_accuracy: 0.9176\n",
      "Epoch 154/200\n",
      "3/3 [==============================] - 0s 105ms/step - loss: 0.1911 - categorical_accuracy: 0.9412\n",
      "Epoch 155/200\n",
      "3/3 [==============================] - 0s 93ms/step - loss: 0.5796 - categorical_accuracy: 0.7529\n",
      "Epoch 156/200\n",
      "3/3 [==============================] - 0s 109ms/step - loss: 0.4189 - categorical_accuracy: 0.8235\n",
      "Epoch 157/200\n",
      "3/3 [==============================] - 0s 98ms/step - loss: 0.3486 - categorical_accuracy: 0.7765\n",
      "Epoch 158/200\n",
      "3/3 [==============================] - 0s 93ms/step - loss: 0.2298 - categorical_accuracy: 0.9059\n",
      "Epoch 159/200\n",
      "3/3 [==============================] - 0s 94ms/step - loss: 0.2543 - categorical_accuracy: 0.8941\n",
      "Epoch 160/200\n",
      "3/3 [==============================] - 0s 93ms/step - loss: 0.2922 - categorical_accuracy: 0.8471\n",
      "Epoch 161/200\n",
      "3/3 [==============================] - 0s 93ms/step - loss: 0.3229 - categorical_accuracy: 0.8941\n",
      "Epoch 162/200\n",
      "3/3 [==============================] - 0s 92ms/step - loss: 0.2185 - categorical_accuracy: 0.9059\n",
      "Epoch 163/200\n",
      "3/3 [==============================] - 0s 96ms/step - loss: 0.2455 - categorical_accuracy: 0.9059\n",
      "Epoch 164/200\n",
      "3/3 [==============================] - 0s 91ms/step - loss: 0.2480 - categorical_accuracy: 0.8706\n",
      "Epoch 165/200\n",
      "3/3 [==============================] - 0s 93ms/step - loss: 0.2310 - categorical_accuracy: 0.9176\n",
      "Epoch 166/200\n",
      "3/3 [==============================] - 0s 95ms/step - loss: 0.1499 - categorical_accuracy: 0.9529\n",
      "Epoch 167/200\n",
      "3/3 [==============================] - 0s 94ms/step - loss: 0.1209 - categorical_accuracy: 0.9765\n",
      "Epoch 168/200\n",
      "3/3 [==============================] - 0s 95ms/step - loss: 0.1364 - categorical_accuracy: 0.9647\n",
      "Epoch 169/200\n",
      "3/3 [==============================] - 0s 97ms/step - loss: 0.1110 - categorical_accuracy: 0.9882\n",
      "Epoch 170/200\n",
      "3/3 [==============================] - 0s 103ms/step - loss: 0.1467 - categorical_accuracy: 0.9176\n",
      "Epoch 171/200\n",
      "3/3 [==============================] - 0s 95ms/step - loss: 0.2010 - categorical_accuracy: 0.9059\n",
      "Epoch 172/200\n",
      "3/3 [==============================] - 0s 97ms/step - loss: 0.2242 - categorical_accuracy: 0.9176\n",
      "Epoch 173/200\n",
      "3/3 [==============================] - 0s 93ms/step - loss: 0.1450 - categorical_accuracy: 0.9529\n",
      "Epoch 174/200\n",
      "3/3 [==============================] - 0s 94ms/step - loss: 0.1390 - categorical_accuracy: 0.9529\n",
      "Epoch 175/200\n",
      "3/3 [==============================] - 0s 98ms/step - loss: 0.0667 - categorical_accuracy: 0.9882\n",
      "Epoch 176/200\n",
      "3/3 [==============================] - 0s 94ms/step - loss: 0.0700 - categorical_accuracy: 1.0000\n",
      "Epoch 177/200\n",
      "3/3 [==============================] - 0s 90ms/step - loss: 0.0731 - categorical_accuracy: 0.9765\n",
      "Epoch 178/200\n",
      "3/3 [==============================] - 0s 99ms/step - loss: 0.0425 - categorical_accuracy: 0.9882\n",
      "Epoch 179/200\n",
      "3/3 [==============================] - 0s 96ms/step - loss: 0.0454 - categorical_accuracy: 1.0000\n",
      "Epoch 180/200\n",
      "3/3 [==============================] - 0s 94ms/step - loss: 0.0361 - categorical_accuracy: 1.0000\n",
      "Epoch 181/200\n",
      "3/3 [==============================] - 0s 100ms/step - loss: 0.0638 - categorical_accuracy: 0.9647\n",
      "Epoch 182/200\n",
      "3/3 [==============================] - 0s 97ms/step - loss: 0.0556 - categorical_accuracy: 0.9765\n",
      "Epoch 183/200\n",
      "3/3 [==============================] - 0s 92ms/step - loss: 0.0367 - categorical_accuracy: 0.9882\n",
      "Epoch 184/200\n",
      "3/3 [==============================] - 0s 95ms/step - loss: 0.0174 - categorical_accuracy: 1.0000\n",
      "Epoch 185/200\n",
      "3/3 [==============================] - 0s 96ms/step - loss: 0.0141 - categorical_accuracy: 1.0000\n",
      "Epoch 186/200\n",
      "3/3 [==============================] - 0s 94ms/step - loss: 0.0105 - categorical_accuracy: 1.0000\n",
      "Epoch 187/200\n",
      "3/3 [==============================] - 0s 96ms/step - loss: 0.0082 - categorical_accuracy: 1.0000\n",
      "Epoch 188/200\n",
      "3/3 [==============================] - 0s 95ms/step - loss: 0.0094 - categorical_accuracy: 1.0000\n",
      "Epoch 189/200\n",
      "3/3 [==============================] - 0s 97ms/step - loss: 0.0088 - categorical_accuracy: 1.0000\n",
      "Epoch 190/200\n",
      "3/3 [==============================] - 0s 96ms/step - loss: 0.0156 - categorical_accuracy: 0.9882\n",
      "Epoch 191/200\n",
      "3/3 [==============================] - 0s 96ms/step - loss: 0.3148 - categorical_accuracy: 0.9059\n",
      "Epoch 192/200\n",
      "3/3 [==============================] - 0s 96ms/step - loss: 1.0993 - categorical_accuracy: 0.7882\n",
      "Epoch 193/200\n",
      "3/3 [==============================] - 0s 95ms/step - loss: 0.4675 - categorical_accuracy: 0.8588\n",
      "Epoch 194/200\n",
      "3/3 [==============================] - 0s 96ms/step - loss: 0.5084 - categorical_accuracy: 0.7765\n",
      "Epoch 195/200\n",
      "3/3 [==============================] - 0s 93ms/step - loss: 0.3648 - categorical_accuracy: 0.8235\n",
      "Epoch 196/200\n",
      "3/3 [==============================] - 0s 111ms/step - loss: 0.5046 - categorical_accuracy: 0.7765\n",
      "Epoch 197/200\n",
      "3/3 [==============================] - 0s 96ms/step - loss: 0.3818 - categorical_accuracy: 0.8353\n",
      "Epoch 198/200\n",
      "3/3 [==============================] - 0s 93ms/step - loss: 0.2934 - categorical_accuracy: 0.8824\n",
      "Epoch 199/200\n",
      "3/3 [==============================] - 0s 94ms/step - loss: 0.2666 - categorical_accuracy: 0.9059\n",
      "Epoch 200/200\n",
      "3/3 [==============================] - 0s 97ms/step - loss: 0.2393 - categorical_accuracy: 0.9765\n"
     ]
    },
    {
     "data": {
      "text/plain": [
       "<keras.callbacks.History at 0x23a0e7f5f60>"
      ]
     },
     "execution_count": 180,
     "metadata": {},
     "output_type": "execute_result"
    }
   ],
   "source": [
    "model.fit(X_train, y_train, epochs=200)"
   ]
  },
  {
   "cell_type": "code",
   "execution_count": 56,
   "id": "1cd6e494",
   "metadata": {},
   "outputs": [
    {
     "name": "stdout",
     "output_type": "stream",
     "text": [
      "Model: \"sequential\"\n",
      "_________________________________________________________________\n",
      " Layer (type)                Output Shape              Param #   \n",
      "=================================================================\n",
      " lstm (LSTM)                 (None, 30, 64)            442112    \n",
      "                                                                 \n",
      " lstm_1 (LSTM)               (None, 30, 128)           98816     \n",
      "                                                                 \n",
      " lstm_2 (LSTM)               (None, 64)                49408     \n",
      "                                                                 \n",
      " dense (Dense)               (None, 64)                4160      \n",
      "                                                                 \n",
      " dense_1 (Dense)             (None, 32)                2080      \n",
      "                                                                 \n",
      " dense_2 (Dense)             (None, 3)                 99        \n",
      "                                                                 \n",
      "=================================================================\n",
      "Total params: 596,675\n",
      "Trainable params: 596,675\n",
      "Non-trainable params: 0\n",
      "_________________________________________________________________\n"
     ]
    }
   ],
   "source": [
    "model.summary()"
   ]
  },
  {
   "cell_type": "code",
   "execution_count": 57,
   "id": "dc5412cb",
   "metadata": {},
   "outputs": [
    {
     "name": "stdout",
     "output_type": "stream",
     "text": [
      "1/1 [==============================] - 1s 738ms/step\n"
     ]
    }
   ],
   "source": [
    "res = model.predict(X_test)"
   ]
  },
  {
   "cell_type": "code",
   "execution_count": 58,
   "id": "5a89cb50",
   "metadata": {},
   "outputs": [
    {
     "data": {
      "text/plain": [
       "'hello'"
      ]
     },
     "execution_count": 58,
     "metadata": {},
     "output_type": "execute_result"
    }
   ],
   "source": [
    "actions[np.argmax(res[4])]"
   ]
  },
  {
   "cell_type": "code",
   "execution_count": 59,
   "id": "6167800a",
   "metadata": {},
   "outputs": [
    {
     "data": {
      "text/plain": [
       "'iloveyou'"
      ]
     },
     "execution_count": 59,
     "metadata": {},
     "output_type": "execute_result"
    }
   ],
   "source": [
    "actions[np.argmax(y_test[4])]"
   ]
  },
  {
   "cell_type": "code",
   "execution_count": 235,
   "id": "dddbc01f",
   "metadata": {},
   "outputs": [],
   "source": [
    "# model.save('actions.h5')"
   ]
  },
  {
   "cell_type": "code",
   "execution_count": 60,
   "id": "dee4a6f5",
   "metadata": {},
   "outputs": [],
   "source": [
    "from sklearn.metrics import multilabel_confusion_matrix, accuracy_score"
   ]
  },
  {
   "cell_type": "code",
   "execution_count": 61,
   "id": "dc6c6c68",
   "metadata": {},
   "outputs": [
    {
     "name": "stdout",
     "output_type": "stream",
     "text": [
      "1/1 [==============================] - 0s 69ms/step\n"
     ]
    }
   ],
   "source": [
    "yhat = model.predict(X_test)"
   ]
  },
  {
   "cell_type": "code",
   "execution_count": 62,
   "id": "39fb1b09",
   "metadata": {},
   "outputs": [],
   "source": [
    "ytrue = np.argmax(y_test, axis=1).tolist()\n",
    "yhat = np.argmax(yhat, axis=1).tolist()"
   ]
  },
  {
   "cell_type": "code",
   "execution_count": 63,
   "id": "81be31bc",
   "metadata": {},
   "outputs": [
    {
     "data": {
      "text/plain": [
       "array([[[2, 2],\n",
       "        [0, 1]],\n",
       "\n",
       "       [[3, 1],\n",
       "        [0, 1]],\n",
       "\n",
       "       [[2, 0],\n",
       "        [3, 0]]], dtype=int64)"
      ]
     },
     "execution_count": 63,
     "metadata": {},
     "output_type": "execute_result"
    }
   ],
   "source": [
    "multilabel_confusion_matrix(ytrue,yhat)"
   ]
  },
  {
   "cell_type": "code",
   "execution_count": 64,
   "id": "493edfcd",
   "metadata": {},
   "outputs": [],
   "source": [
    "colors = [(245,117,16), (117,245,16), (16,117,245)]\n",
    "def prob_viz(res, actions, input_frame, colors):\n",
    "    output_frame = input_frame.copy()\n",
    "    for num, prob in enumerate(res):\n",
    "        cv2.rectangle(output_frame, (0,60+num*40), (int(prob*100), 90+num*40), colors[num],-1)\n",
    "        cv2.putText(output_frame, actions[num], (0, 85+num*40), cv2.FONT_HERSHEY_SIMPLEX, 1, (255,255,255),2, cv2.LINE_AA)\n",
    "    return output_frame"
   ]
  },
  {
   "cell_type": "code",
   "execution_count": null,
   "id": "d157b90b",
   "metadata": {},
   "outputs": [],
   "source": [
    "plt.figure(figsize=(18,18))\n",
    "plt.imshow(prob_viz(res, actions, image, colors))"
   ]
  },
  {
   "cell_type": "code",
   "execution_count": 68,
   "id": "25a7f42a",
   "metadata": {},
   "outputs": [
    {
     "name": "stdout",
     "output_type": "stream",
     "text": [
      "<class 'mediapipe.python.solution_base.SolutionOutputs'>\n",
      "<class 'mediapipe.python.solution_base.SolutionOutputs'>\n",
      "<class 'mediapipe.python.solution_base.SolutionOutputs'>\n",
      "<class 'mediapipe.python.solution_base.SolutionOutputs'>\n",
      "<class 'mediapipe.python.solution_base.SolutionOutputs'>\n",
      "<class 'mediapipe.python.solution_base.SolutionOutputs'>\n",
      "<class 'mediapipe.python.solution_base.SolutionOutputs'>\n",
      "<class 'mediapipe.python.solution_base.SolutionOutputs'>\n",
      "<class 'mediapipe.python.solution_base.SolutionOutputs'>\n",
      "<class 'mediapipe.python.solution_base.SolutionOutputs'>\n",
      "<class 'mediapipe.python.solution_base.SolutionOutputs'>\n",
      "<class 'mediapipe.python.solution_base.SolutionOutputs'>\n",
      "<class 'mediapipe.python.solution_base.SolutionOutputs'>\n",
      "<class 'mediapipe.python.solution_base.SolutionOutputs'>\n",
      "<class 'mediapipe.python.solution_base.SolutionOutputs'>\n",
      "<class 'mediapipe.python.solution_base.SolutionOutputs'>\n",
      "<class 'mediapipe.python.solution_base.SolutionOutputs'>\n",
      "<class 'mediapipe.python.solution_base.SolutionOutputs'>\n",
      "<class 'mediapipe.python.solution_base.SolutionOutputs'>\n",
      "<class 'mediapipe.python.solution_base.SolutionOutputs'>\n",
      "<class 'mediapipe.python.solution_base.SolutionOutputs'>\n",
      "<class 'mediapipe.python.solution_base.SolutionOutputs'>\n",
      "<class 'mediapipe.python.solution_base.SolutionOutputs'>\n",
      "<class 'mediapipe.python.solution_base.SolutionOutputs'>\n",
      "<class 'mediapipe.python.solution_base.SolutionOutputs'>\n",
      "<class 'mediapipe.python.solution_base.SolutionOutputs'>\n",
      "<class 'mediapipe.python.solution_base.SolutionOutputs'>\n",
      "<class 'mediapipe.python.solution_base.SolutionOutputs'>\n",
      "<class 'mediapipe.python.solution_base.SolutionOutputs'>\n",
      "<class 'mediapipe.python.solution_base.SolutionOutputs'>\n",
      "1/1 [==============================] - 0s 32ms/step\n",
      "iloveyou\n",
      "<class 'mediapipe.python.solution_base.SolutionOutputs'>\n",
      "1/1 [==============================] - 0s 55ms/step\n",
      "iloveyou\n",
      "<class 'mediapipe.python.solution_base.SolutionOutputs'>\n",
      "1/1 [==============================] - 0s 38ms/step\n",
      "iloveyou\n",
      "<class 'mediapipe.python.solution_base.SolutionOutputs'>\n",
      "1/1 [==============================] - 0s 35ms/step\n",
      "iloveyou\n",
      "<class 'mediapipe.python.solution_base.SolutionOutputs'>\n",
      "1/1 [==============================] - 0s 34ms/step\n",
      "iloveyou\n",
      "<class 'mediapipe.python.solution_base.SolutionOutputs'>\n",
      "1/1 [==============================] - 0s 54ms/step\n",
      "iloveyou\n",
      "<class 'mediapipe.python.solution_base.SolutionOutputs'>\n",
      "1/1 [==============================] - 0s 31ms/step\n",
      "iloveyou\n",
      "<class 'mediapipe.python.solution_base.SolutionOutputs'>\n",
      "1/1 [==============================] - 0s 31ms/step\n",
      "iloveyou\n",
      "<class 'mediapipe.python.solution_base.SolutionOutputs'>\n",
      "1/1 [==============================] - 0s 31ms/step\n",
      "iloveyou\n",
      "<class 'mediapipe.python.solution_base.SolutionOutputs'>\n",
      "1/1 [==============================] - 0s 65ms/step\n",
      "iloveyou\n",
      "<class 'mediapipe.python.solution_base.SolutionOutputs'>\n",
      "1/1 [==============================] - 0s 50ms/step\n",
      "iloveyou\n",
      "<class 'mediapipe.python.solution_base.SolutionOutputs'>\n",
      "1/1 [==============================] - 0s 36ms/step\n",
      "iloveyou\n",
      "<class 'mediapipe.python.solution_base.SolutionOutputs'>\n",
      "1/1 [==============================] - 0s 50ms/step\n",
      "iloveyou\n",
      "<class 'mediapipe.python.solution_base.SolutionOutputs'>\n",
      "1/1 [==============================] - 0s 60ms/step\n",
      "iloveyou\n",
      "<class 'mediapipe.python.solution_base.SolutionOutputs'>\n",
      "1/1 [==============================] - 0s 32ms/step\n",
      "thanks\n",
      "<class 'mediapipe.python.solution_base.SolutionOutputs'>\n",
      "1/1 [==============================] - 0s 32ms/step\n",
      "thanks\n",
      "<class 'mediapipe.python.solution_base.SolutionOutputs'>\n",
      "1/1 [==============================] - 0s 52ms/step\n",
      "thanks\n",
      "<class 'mediapipe.python.solution_base.SolutionOutputs'>\n",
      "1/1 [==============================] - 0s 36ms/step\n",
      "thanks\n",
      "<class 'mediapipe.python.solution_base.SolutionOutputs'>\n",
      "1/1 [==============================] - 0s 36ms/step\n",
      "thanks\n",
      "<class 'mediapipe.python.solution_base.SolutionOutputs'>\n",
      "1/1 [==============================] - 0s 40ms/step\n",
      "thanks\n",
      "<class 'mediapipe.python.solution_base.SolutionOutputs'>\n",
      "1/1 [==============================] - 0s 53ms/step\n",
      "thanks\n",
      "<class 'mediapipe.python.solution_base.SolutionOutputs'>\n",
      "1/1 [==============================] - 0s 47ms/step\n",
      "thanks\n",
      "<class 'mediapipe.python.solution_base.SolutionOutputs'>\n",
      "1/1 [==============================] - 0s 32ms/step\n",
      "thanks\n",
      "<class 'mediapipe.python.solution_base.SolutionOutputs'>\n",
      "1/1 [==============================] - 0s 59ms/step\n",
      "thanks\n",
      "<class 'mediapipe.python.solution_base.SolutionOutputs'>\n",
      "1/1 [==============================] - 0s 51ms/step\n",
      "thanks\n",
      "<class 'mediapipe.python.solution_base.SolutionOutputs'>\n",
      "1/1 [==============================] - 0s 36ms/step\n",
      "thanks\n",
      "<class 'mediapipe.python.solution_base.SolutionOutputs'>\n",
      "1/1 [==============================] - 0s 98ms/step\n",
      "thanks\n",
      "<class 'mediapipe.python.solution_base.SolutionOutputs'>\n",
      "1/1 [==============================] - 0s 54ms/step\n",
      "hello\n",
      "<class 'mediapipe.python.solution_base.SolutionOutputs'>\n",
      "1/1 [==============================] - 0s 36ms/step\n",
      "hello\n",
      "<class 'mediapipe.python.solution_base.SolutionOutputs'>\n",
      "1/1 [==============================] - 0s 36ms/step\n",
      "hello\n",
      "<class 'mediapipe.python.solution_base.SolutionOutputs'>\n",
      "1/1 [==============================] - 0s 36ms/step\n",
      "hello\n",
      "<class 'mediapipe.python.solution_base.SolutionOutputs'>\n",
      "1/1 [==============================] - 0s 57ms/step\n",
      "hello\n",
      "<class 'mediapipe.python.solution_base.SolutionOutputs'>\n",
      "1/1 [==============================] - 0s 31ms/step\n",
      "hello\n",
      "<class 'mediapipe.python.solution_base.SolutionOutputs'>\n",
      "1/1 [==============================] - 0s 33ms/step\n",
      "hello\n",
      "<class 'mediapipe.python.solution_base.SolutionOutputs'>\n",
      "1/1 [==============================] - 0s 36ms/step\n",
      "hello\n",
      "<class 'mediapipe.python.solution_base.SolutionOutputs'>\n",
      "1/1 [==============================] - 0s 67ms/step\n",
      "hello\n",
      "<class 'mediapipe.python.solution_base.SolutionOutputs'>\n",
      "1/1 [==============================] - 0s 34ms/step\n",
      "hello\n",
      "<class 'mediapipe.python.solution_base.SolutionOutputs'>\n",
      "1/1 [==============================] - 0s 35ms/step\n",
      "hello\n",
      "<class 'mediapipe.python.solution_base.SolutionOutputs'>\n",
      "1/1 [==============================] - 0s 35ms/step\n",
      "hello\n",
      "<class 'mediapipe.python.solution_base.SolutionOutputs'>\n",
      "1/1 [==============================] - 0s 103ms/step\n",
      "hello\n",
      "<class 'mediapipe.python.solution_base.SolutionOutputs'>\n",
      "1/1 [==============================] - 0s 32ms/step\n",
      "hello\n",
      "<class 'mediapipe.python.solution_base.SolutionOutputs'>\n",
      "1/1 [==============================] - 0s 37ms/step\n",
      "hello\n",
      "<class 'mediapipe.python.solution_base.SolutionOutputs'>\n",
      "1/1 [==============================] - 0s 62ms/step\n",
      "hello\n",
      "<class 'mediapipe.python.solution_base.SolutionOutputs'>\n",
      "1/1 [==============================] - 0s 55ms/step\n",
      "hello\n",
      "<class 'mediapipe.python.solution_base.SolutionOutputs'>\n",
      "1/1 [==============================] - 0s 38ms/step\n",
      "hello\n",
      "<class 'mediapipe.python.solution_base.SolutionOutputs'>\n",
      "1/1 [==============================] - 0s 34ms/step\n",
      "hello\n",
      "<class 'mediapipe.python.solution_base.SolutionOutputs'>\n",
      "1/1 [==============================] - 0s 66ms/step\n",
      "hello\n",
      "<class 'mediapipe.python.solution_base.SolutionOutputs'>\n",
      "1/1 [==============================] - 0s 33ms/step\n",
      "hello\n",
      "<class 'mediapipe.python.solution_base.SolutionOutputs'>\n",
      "1/1 [==============================] - 0s 33ms/step\n",
      "hello\n",
      "<class 'mediapipe.python.solution_base.SolutionOutputs'>\n",
      "1/1 [==============================] - 0s 66ms/step\n",
      "hello\n",
      "<class 'mediapipe.python.solution_base.SolutionOutputs'>\n",
      "1/1 [==============================] - 0s 52ms/step\n",
      "hello\n",
      "<class 'mediapipe.python.solution_base.SolutionOutputs'>\n",
      "1/1 [==============================] - 0s 34ms/step\n",
      "hello\n",
      "<class 'mediapipe.python.solution_base.SolutionOutputs'>\n",
      "1/1 [==============================] - 0s 33ms/step\n",
      "hello\n",
      "<class 'mediapipe.python.solution_base.SolutionOutputs'>\n",
      "1/1 [==============================] - 0s 68ms/step\n",
      "hello\n",
      "<class 'mediapipe.python.solution_base.SolutionOutputs'>\n",
      "1/1 [==============================] - 0s 31ms/step\n",
      "hello\n",
      "<class 'mediapipe.python.solution_base.SolutionOutputs'>\n",
      "1/1 [==============================] - 0s 43ms/step\n",
      "hello\n",
      "<class 'mediapipe.python.solution_base.SolutionOutputs'>\n"
     ]
    },
    {
     "name": "stdout",
     "output_type": "stream",
     "text": [
      "1/1 [==============================] - 0s 55ms/step\n",
      "hello\n",
      "<class 'mediapipe.python.solution_base.SolutionOutputs'>\n",
      "1/1 [==============================] - 0s 51ms/step\n",
      "hello\n",
      "<class 'mediapipe.python.solution_base.SolutionOutputs'>\n",
      "1/1 [==============================] - 0s 35ms/step\n",
      "hello\n",
      "<class 'mediapipe.python.solution_base.SolutionOutputs'>\n",
      "1/1 [==============================] - 0s 33ms/step\n",
      "hello\n",
      "<class 'mediapipe.python.solution_base.SolutionOutputs'>\n",
      "1/1 [==============================] - 0s 52ms/step\n",
      "hello\n",
      "<class 'mediapipe.python.solution_base.SolutionOutputs'>\n",
      "1/1 [==============================] - 0s 98ms/step\n",
      "hello\n",
      "<class 'mediapipe.python.solution_base.SolutionOutputs'>\n",
      "1/1 [==============================] - 0s 35ms/step\n",
      "hello\n",
      "<class 'mediapipe.python.solution_base.SolutionOutputs'>\n",
      "1/1 [==============================] - 0s 41ms/step\n",
      "iloveyou\n",
      "<class 'mediapipe.python.solution_base.SolutionOutputs'>\n",
      "1/1 [==============================] - 0s 51ms/step\n",
      "iloveyou\n",
      "<class 'mediapipe.python.solution_base.SolutionOutputs'>\n",
      "1/1 [==============================] - 0s 39ms/step\n",
      "iloveyou\n",
      "<class 'mediapipe.python.solution_base.SolutionOutputs'>\n",
      "1/1 [==============================] - 0s 40ms/step\n",
      "iloveyou\n",
      "<class 'mediapipe.python.solution_base.SolutionOutputs'>\n",
      "1/1 [==============================] - 0s 31ms/step\n",
      "iloveyou\n",
      "<class 'mediapipe.python.solution_base.SolutionOutputs'>\n",
      "1/1 [==============================] - 0s 50ms/step\n",
      "iloveyou\n",
      "<class 'mediapipe.python.solution_base.SolutionOutputs'>\n",
      "1/1 [==============================] - 0s 33ms/step\n",
      "iloveyou\n",
      "<class 'mediapipe.python.solution_base.SolutionOutputs'>\n",
      "1/1 [==============================] - 0s 34ms/step\n",
      "iloveyou\n",
      "<class 'mediapipe.python.solution_base.SolutionOutputs'>\n",
      "1/1 [==============================] - 0s 61ms/step\n",
      "iloveyou\n",
      "<class 'mediapipe.python.solution_base.SolutionOutputs'>\n",
      "1/1 [==============================] - 0s 51ms/step\n",
      "iloveyou\n",
      "<class 'mediapipe.python.solution_base.SolutionOutputs'>\n",
      "1/1 [==============================] - 0s 37ms/step\n",
      "iloveyou\n",
      "<class 'mediapipe.python.solution_base.SolutionOutputs'>\n",
      "1/1 [==============================] - 0s 33ms/step\n",
      "iloveyou\n",
      "<class 'mediapipe.python.solution_base.SolutionOutputs'>\n",
      "1/1 [==============================] - 0s 59ms/step\n",
      "iloveyou\n",
      "<class 'mediapipe.python.solution_base.SolutionOutputs'>\n",
      "1/1 [==============================] - 0s 51ms/step\n",
      "iloveyou\n",
      "<class 'mediapipe.python.solution_base.SolutionOutputs'>\n",
      "1/1 [==============================] - 0s 31ms/step\n",
      "iloveyou\n",
      "<class 'mediapipe.python.solution_base.SolutionOutputs'>\n",
      "1/1 [==============================] - 0s 34ms/step\n",
      "thanks\n",
      "<class 'mediapipe.python.solution_base.SolutionOutputs'>\n",
      "1/1 [==============================] - 0s 64ms/step\n",
      "thanks\n",
      "<class 'mediapipe.python.solution_base.SolutionOutputs'>\n",
      "1/1 [==============================] - 0s 53ms/step\n",
      "thanks\n",
      "<class 'mediapipe.python.solution_base.SolutionOutputs'>\n",
      "1/1 [==============================] - 0s 39ms/step\n",
      "thanks\n",
      "<class 'mediapipe.python.solution_base.SolutionOutputs'>\n",
      "1/1 [==============================] - 0s 32ms/step\n",
      "thanks\n",
      "<class 'mediapipe.python.solution_base.SolutionOutputs'>\n",
      "1/1 [==============================] - 0s 49ms/step\n",
      "thanks\n",
      "<class 'mediapipe.python.solution_base.SolutionOutputs'>\n",
      "1/1 [==============================] - 0s 39ms/step\n",
      "thanks\n",
      "<class 'mediapipe.python.solution_base.SolutionOutputs'>\n",
      "1/1 [==============================] - 0s 35ms/step\n",
      "thanks\n",
      "<class 'mediapipe.python.solution_base.SolutionOutputs'>\n",
      "1/1 [==============================] - 0s 35ms/step\n",
      "thanks\n",
      "<class 'mediapipe.python.solution_base.SolutionOutputs'>\n",
      "1/1 [==============================] - 0s 50ms/step\n",
      "thanks\n",
      "<class 'mediapipe.python.solution_base.SolutionOutputs'>\n",
      "1/1 [==============================] - 0s 32ms/step\n",
      "thanks\n",
      "<class 'mediapipe.python.solution_base.SolutionOutputs'>\n",
      "1/1 [==============================] - 0s 69ms/step\n",
      "thanks\n",
      "<class 'mediapipe.python.solution_base.SolutionOutputs'>\n",
      "1/1 [==============================] - 0s 68ms/step\n",
      "thanks\n",
      "<class 'mediapipe.python.solution_base.SolutionOutputs'>\n",
      "1/1 [==============================] - 0s 51ms/step\n",
      "thanks\n",
      "<class 'mediapipe.python.solution_base.SolutionOutputs'>\n",
      "1/1 [==============================] - 0s 32ms/step\n",
      "thanks\n",
      "<class 'mediapipe.python.solution_base.SolutionOutputs'>\n",
      "1/1 [==============================] - 0s 32ms/step\n",
      "thanks\n",
      "<class 'mediapipe.python.solution_base.SolutionOutputs'>\n",
      "1/1 [==============================] - 0s 49ms/step\n",
      "thanks\n",
      "<class 'mediapipe.python.solution_base.SolutionOutputs'>\n",
      "1/1 [==============================] - 0s 40ms/step\n",
      "thanks\n",
      "<class 'mediapipe.python.solution_base.SolutionOutputs'>\n",
      "1/1 [==============================] - 0s 31ms/step\n",
      "iloveyou\n",
      "<class 'mediapipe.python.solution_base.SolutionOutputs'>\n",
      "1/1 [==============================] - 0s 36ms/step\n",
      "iloveyou\n",
      "<class 'mediapipe.python.solution_base.SolutionOutputs'>\n",
      "1/1 [==============================] - 0s 53ms/step\n",
      "iloveyou\n",
      "<class 'mediapipe.python.solution_base.SolutionOutputs'>\n",
      "1/1 [==============================] - 0s 34ms/step\n",
      "iloveyou\n",
      "<class 'mediapipe.python.solution_base.SolutionOutputs'>\n",
      "1/1 [==============================] - 0s 34ms/step\n",
      "iloveyou\n",
      "<class 'mediapipe.python.solution_base.SolutionOutputs'>\n",
      "1/1 [==============================] - 0s 50ms/step\n",
      "iloveyou\n",
      "<class 'mediapipe.python.solution_base.SolutionOutputs'>\n",
      "1/1 [==============================] - 0s 55ms/step\n",
      "iloveyou\n",
      "<class 'mediapipe.python.solution_base.SolutionOutputs'>\n",
      "1/1 [==============================] - 0s 33ms/step\n",
      "iloveyou\n",
      "<class 'mediapipe.python.solution_base.SolutionOutputs'>\n",
      "1/1 [==============================] - 0s 37ms/step\n",
      "hello\n",
      "<class 'mediapipe.python.solution_base.SolutionOutputs'>\n",
      "1/1 [==============================] - 0s 67ms/step\n",
      "hello\n",
      "<class 'mediapipe.python.solution_base.SolutionOutputs'>\n",
      "1/1 [==============================] - 0s 50ms/step\n",
      "hello\n",
      "<class 'mediapipe.python.solution_base.SolutionOutputs'>\n",
      "1/1 [==============================] - 0s 34ms/step\n",
      "hello\n",
      "<class 'mediapipe.python.solution_base.SolutionOutputs'>\n",
      "1/1 [==============================] - 0s 101ms/step\n",
      "hello\n",
      "<class 'mediapipe.python.solution_base.SolutionOutputs'>\n",
      "1/1 [==============================] - 0s 49ms/step\n",
      "hello\n",
      "<class 'mediapipe.python.solution_base.SolutionOutputs'>\n",
      "1/1 [==============================] - 0s 32ms/step\n",
      "hello\n",
      "<class 'mediapipe.python.solution_base.SolutionOutputs'>\n",
      "1/1 [==============================] - 0s 33ms/step\n",
      "hello\n",
      "<class 'mediapipe.python.solution_base.SolutionOutputs'>\n",
      "1/1 [==============================] - 0s 86ms/step\n",
      "hello\n",
      "<class 'mediapipe.python.solution_base.SolutionOutputs'>\n",
      "1/1 [==============================] - 0s 51ms/step\n",
      "hello\n",
      "<class 'mediapipe.python.solution_base.SolutionOutputs'>\n",
      "1/1 [==============================] - 0s 35ms/step\n",
      "hello\n",
      "<class 'mediapipe.python.solution_base.SolutionOutputs'>\n",
      "1/1 [==============================] - 0s 34ms/step\n",
      "hello\n",
      "<class 'mediapipe.python.solution_base.SolutionOutputs'>\n",
      "1/1 [==============================] - 0s 52ms/step\n",
      "hello\n",
      "<class 'mediapipe.python.solution_base.SolutionOutputs'>\n",
      "1/1 [==============================] - 0s 42ms/step\n",
      "hello\n",
      "<class 'mediapipe.python.solution_base.SolutionOutputs'>\n",
      "1/1 [==============================] - 0s 34ms/step\n",
      "hello\n",
      "<class 'mediapipe.python.solution_base.SolutionOutputs'>\n",
      "1/1 [==============================] - 0s 49ms/step\n",
      "hello\n",
      "<class 'mediapipe.python.solution_base.SolutionOutputs'>\n",
      "1/1 [==============================] - 0s 55ms/step\n",
      "hello\n",
      "<class 'mediapipe.python.solution_base.SolutionOutputs'>\n",
      "1/1 [==============================] - 0s 32ms/step\n",
      "hello\n",
      "<class 'mediapipe.python.solution_base.SolutionOutputs'>\n",
      "1/1 [==============================] - 0s 40ms/step\n",
      "hello\n",
      "<class 'mediapipe.python.solution_base.SolutionOutputs'>\n",
      "1/1 [==============================] - 0s 61ms/step\n",
      "hello\n",
      "<class 'mediapipe.python.solution_base.SolutionOutputs'>\n",
      "1/1 [==============================] - 0s 50ms/step\n",
      "hello\n",
      "<class 'mediapipe.python.solution_base.SolutionOutputs'>\n",
      "1/1 [==============================] - 0s 32ms/step\n",
      "hello\n",
      "<class 'mediapipe.python.solution_base.SolutionOutputs'>\n",
      "1/1 [==============================] - 0s 34ms/step\n",
      "hello\n",
      "<class 'mediapipe.python.solution_base.SolutionOutputs'>\n"
     ]
    },
    {
     "name": "stdout",
     "output_type": "stream",
     "text": [
      "1/1 [==============================] - 0s 62ms/step\n",
      "hello\n",
      "<class 'mediapipe.python.solution_base.SolutionOutputs'>\n",
      "1/1 [==============================] - 0s 62ms/step\n",
      "hello\n",
      "<class 'mediapipe.python.solution_base.SolutionOutputs'>\n",
      "1/1 [==============================] - 0s 34ms/step\n",
      "hello\n",
      "<class 'mediapipe.python.solution_base.SolutionOutputs'>\n",
      "1/1 [==============================] - 0s 88ms/step\n",
      "hello\n",
      "<class 'mediapipe.python.solution_base.SolutionOutputs'>\n",
      "1/1 [==============================] - 0s 51ms/step\n",
      "hello\n",
      "<class 'mediapipe.python.solution_base.SolutionOutputs'>\n",
      "1/1 [==============================] - 0s 58ms/step\n",
      "hello\n",
      "<class 'mediapipe.python.solution_base.SolutionOutputs'>\n",
      "1/1 [==============================] - 0s 33ms/step\n",
      "hello\n",
      "<class 'mediapipe.python.solution_base.SolutionOutputs'>\n",
      "1/1 [==============================] - 0s 34ms/step\n",
      "hello\n",
      "<class 'mediapipe.python.solution_base.SolutionOutputs'>\n",
      "1/1 [==============================] - 0s 30ms/step\n",
      "hello\n",
      "<class 'mediapipe.python.solution_base.SolutionOutputs'>\n",
      "1/1 [==============================] - 0s 55ms/step\n",
      "hello\n",
      "<class 'mediapipe.python.solution_base.SolutionOutputs'>\n",
      "1/1 [==============================] - 0s 51ms/step\n",
      "hello\n",
      "<class 'mediapipe.python.solution_base.SolutionOutputs'>\n",
      "1/1 [==============================] - 0s 59ms/step\n",
      "hello\n",
      "<class 'mediapipe.python.solution_base.SolutionOutputs'>\n",
      "1/1 [==============================] - 0s 31ms/step\n",
      "hello\n",
      "<class 'mediapipe.python.solution_base.SolutionOutputs'>\n",
      "1/1 [==============================] - 0s 53ms/step\n",
      "hello\n",
      "<class 'mediapipe.python.solution_base.SolutionOutputs'>\n",
      "1/1 [==============================] - 0s 70ms/step\n",
      "hello\n",
      "<class 'mediapipe.python.solution_base.SolutionOutputs'>\n",
      "1/1 [==============================] - 0s 32ms/step\n",
      "hello\n",
      "<class 'mediapipe.python.solution_base.SolutionOutputs'>\n",
      "1/1 [==============================] - 0s 29ms/step\n",
      "hello\n"
     ]
    }
   ],
   "source": [
    "# 1. New detection variables\n",
    "sequence = []\n",
    "sentence = []\n",
    "predictions = []\n",
    "threshold = 0.5\n",
    "\n",
    "cap = cv2.VideoCapture(0)\n",
    "# Set mediapipe model \n",
    "with mp_holistic.Holistic(min_detection_confidence=0.5, min_tracking_confidence=0.5) as holistic:\n",
    "    while cap.isOpened():\n",
    "\n",
    "        # Read feed\n",
    "        ret, frame = cap.read()\n",
    "\n",
    "        # Make detections\n",
    "        image, results = mediapipe_detection(frame, holistic)\n",
    "        print(results)\n",
    "        \n",
    "        # Draw landmarks\n",
    "        draw_styled_landmarks(image, results)\n",
    "        \n",
    "        # 2. Prediction logic\n",
    "        keypoints = extract_keypoints(results)\n",
    "        sequence.append(keypoints)\n",
    "        sequence = sequence[-30:]\n",
    "        \n",
    "        if len(sequence) == 30:\n",
    "            res = model.predict(np.expand_dims(sequence, axis=0))[0]\n",
    "            print(actions[np.argmax(res)])\n",
    "            predictions.append(np.argmax(res))\n",
    "            \n",
    "            \n",
    "        #3. Viz logic\n",
    "            if np.unique(predictions[-10:])[0]==np.argmax(res): \n",
    "                if res[np.argmax(res)] > threshold: \n",
    "                    \n",
    "                    if len(sentence) > 0: \n",
    "                        if actions[np.argmax(res)] != sentence[-1]:\n",
    "                            sentence.append(actions[np.argmax(res)])\n",
    "                    else:\n",
    "                        sentence.append(actions[np.argmax(res)])\n",
    "\n",
    "            if len(sentence) > 5: \n",
    "                sentence = sentence[-5:]\n",
    "\n",
    "            # Viz probabilities\n",
    "            image = prob_viz(res, actions, image, colors)\n",
    "            \n",
    "        cv2.rectangle(image, (0,0), (640, 40), (245, 117, 16), -1)\n",
    "        cv2.putText(image, ' '.join(sentence), (3,30), \n",
    "                       cv2.FONT_HERSHEY_SIMPLEX, 1, (255, 255, 255), 2, cv2.LINE_AA)\n",
    "        \n",
    "        # Show to screen\n",
    "        cv2.imshow('OpenCV Feed', image)\n",
    "\n",
    "        # Break gracefully\n",
    "        if cv2.waitKey(10) & 0xFF == ord('q'):\n",
    "            break\n",
    "    cap.release()\n",
    "    cv2.destroyAllWindows()"
   ]
  },
  {
   "cell_type": "code",
   "execution_count": null,
   "id": "e04eda74",
   "metadata": {},
   "outputs": [],
   "source": []
  }
 ],
 "metadata": {
  "kernelspec": {
   "display_name": "handges",
   "language": "python",
   "name": "handges"
  },
  "language_info": {
   "codemirror_mode": {
    "name": "ipython",
    "version": 3
   },
   "file_extension": ".py",
   "mimetype": "text/x-python",
   "name": "python",
   "nbconvert_exporter": "python",
   "pygments_lexer": "ipython3",
   "version": "3.10.9"
  }
 },
 "nbformat": 4,
 "nbformat_minor": 5
}
